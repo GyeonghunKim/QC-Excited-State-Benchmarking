{
 "cells": [
  {
   "cell_type": "code",
   "execution_count": null,
   "id": "4c3f72c0",
   "metadata": {},
   "outputs": [],
   "source": [
    "from pennylane import numpy as np\n",
    "import pennylane as qml\n",
    "import matplotlib.pyplot as plt\n",
    "import scipy as sp\n",
    "from tqdm.notebook import tqdm"
   ]
  },
  {
   "cell_type": "code",
   "execution_count": null,
   "id": "cb85ce43",
   "metadata": {},
   "outputs": [],
   "source": [
    "def angstrom_to_bohr(distance):\n",
    "    return distance / 0.52917721067121\n",
    "def bohr_to_angstrom(distance):\n",
    "    return distance * 0.52917721067121"
   ]
  },
  {
   "cell_type": "code",
   "execution_count": null,
   "id": "4276fec4",
   "metadata": {},
   "outputs": [],
   "source": [
    "random_seed = 1111"
   ]
  },
  {
   "cell_type": "code",
   "execution_count": null,
   "id": "70f649b6",
   "metadata": {},
   "outputs": [],
   "source": [
    "def define_problem(num_hydrogens, distance, basis='sto-3g', mapping='jordan_wigner'):\n",
    "    symbols = [\"H\"] * num_hydrogens\n",
    "    coordinates = [[0., 0., 0.]]\n",
    "    for i in range(1, num_hydrogens):\n",
    "        coordinates += [[0., 0., angstrom_to_bohr(i * distance)]]\n",
    "    geometry = np.array(coordinates, requires_grad=True)\n",
    "    molecule = qml.qchem.Molecule(symbols, geometry)\n",
    "    H, n_qubits = qml.qchem.molecular_hamiltonian(\n",
    "        symbols, \n",
    "        geometry,\n",
    "        charge=0,\n",
    "        mult=1,\n",
    "        mapping = mapping,\n",
    "        basis = basis,\n",
    "        method=\"pyscf\"\n",
    "    )\n",
    "    hf = qml.qchem.hf_state(num_hydrogens, n_qubits)\n",
    "    singles, doubles = qml.qchem.excitations(num_hydrogens, n_qubits)\n",
    "    s_wires, d_wires = qml.qchem.excitations_to_wires(singles, doubles)\n",
    "    return H, n_qubits, s_wires, d_wires"
   ]
  },
  {
   "cell_type": "code",
   "execution_count": null,
   "id": "c575323e",
   "metadata": {},
   "outputs": [],
   "source": [
    "def plot_energies(exact_data=None, qc_data=None, algorithm_name=None):\n",
    "    fig = plt.figure(figsize=(8, 8))\n",
    "    ax = fig.add_subplot(111)\n",
    "    if exact_data is not None:\n",
    "        ax.plot(dist_list_exact, exact_data[0], label = 'Exact Diagonalization', c='k')\n",
    "        for data in exact_data[1:]:\n",
    "            ax.plot(dist_list_exact, data, c='k')\n",
    "    if qc_data is not None:\n",
    "        ax.scatter(dist_list_quantum, qc_data[0], label = algorithm_name, c='r')\n",
    "        for data in qc_data[1:]:\n",
    "            ax.scatter(dist_list_quantum, data, c='r')\n",
    "\n",
    "    ax.legend()\n",
    "    ax.set_xlabel('Bond Length (Å)')\n",
    "    ax.set_ylabel('Energy (Ha)')\n",
    "#     ax.set_ylim([-1.5, 0.5])\n",
    "    ax.grid()"
   ]
  },
  {
   "cell_type": "code",
   "execution_count": null,
   "id": "c140c338",
   "metadata": {},
   "outputs": [],
   "source": [
    "from qiskit.providers.fake_provider import FakeBelem\n",
    "from qiskit.providers.aer.noise import NoiseModel\n",
    "device_backend = FakeBelem()"
   ]
  },
  {
   "cell_type": "code",
   "execution_count": null,
   "id": "22d837e0",
   "metadata": {},
   "outputs": [],
   "source": [
    "noise_model_belem = NoiseModel.from_backend(device_backend)"
   ]
  },
  {
   "cell_type": "code",
   "execution_count": null,
   "id": "b5e82904",
   "metadata": {
    "scrolled": true
   },
   "outputs": [],
   "source": [
    "dev = qml.device(\"default.qubit\", wires=4)"
   ]
  },
  {
   "cell_type": "code",
   "execution_count": null,
   "id": "284dba21",
   "metadata": {},
   "outputs": [],
   "source": [
    "opt = qml.AdamOptimizer()# stepsize=0.05)"
   ]
  },
  {
   "cell_type": "code",
   "execution_count": null,
   "id": "896f8294",
   "metadata": {},
   "outputs": [],
   "source": [
    "dist_list_exact = np.linspace(0.25, 2, 51)"
   ]
  },
  {
   "cell_type": "code",
   "execution_count": null,
   "id": "77596bcd",
   "metadata": {},
   "outputs": [],
   "source": [
    "dist_list_quantum = np.linspace(0.25, 2, 11)"
   ]
  },
  {
   "cell_type": "markdown",
   "id": "294b8f2e",
   "metadata": {},
   "source": [
    "## 1. UCCSD Ansatz"
   ]
  },
  {
   "cell_type": "code",
   "execution_count": null,
   "id": "021be43e",
   "metadata": {},
   "outputs": [],
   "source": [
    "def UCCSD(weights, s_wires, d_wires):\n",
    "    ## Initialize to HF state\n",
    "    qml.PauliX(wires=0)\n",
    "    qml.PauliX(wires=1)\n",
    "    for d_weight, d_wire in zip(weights[:len(d_wires)], d_wires):\n",
    "        qml.FermionicDoubleExcitation(d_weight, wires1=d_wire[0], wires2=d_wire[1])\n",
    "    for s_weight, s_wire in zip(weights[len(d_wires):], s_wires):\n",
    "        qml.FermionicSingleExcitation(s_weight, wires=s_wire)\n",
    "\n",
    "def UCCSD_dagger(weights, s_wires, d_wires):\n",
    "    ## Initialize to HF state\n",
    "    for s_weight, s_wire in zip(weights[len(d_wires):][::-1], s_wires[::-1]):\n",
    "        qml.adjoint(qml.FermionicSingleExcitation(s_weight, wires=s_wire))\n",
    "        \n",
    "    for d_weight, d_wire in zip(weights[:len(d_wires)][::-1], d_wires[::-1]):\n",
    "        qml.adjoint(qml.FermionicDoubleExcitation(d_weight, wires1=d_wire[0], wires2=d_wire[1]))\n",
    "\n",
    "    qml.PauliX(wires=0)\n",
    "    qml.PauliX(wires=1)"
   ]
  },
  {
   "cell_type": "code",
   "execution_count": null,
   "id": "a739bbf9",
   "metadata": {},
   "outputs": [],
   "source": [
    "def UCCSD_without_initialization(weights, s_wires, d_wires):\n",
    "    ## Initialize to HF state\n",
    "#     qml.PauliX(wires=0)\n",
    "#     qml.PauliX(wires=1)\n",
    "    for d_weight, d_wire in zip(weights[:len(d_wires)], d_wires):\n",
    "        qml.FermionicDoubleExcitation(d_weight, wires1=d_wire[0], wires2=d_wire[1])\n",
    "    for s_weight, s_wire in zip(weights[len(d_wires):], s_wires):\n",
    "        qml.FermionicSingleExcitation(s_weight, wires=s_wire)\n"
   ]
  },
  {
   "cell_type": "code",
   "execution_count": null,
   "id": "a42af1b4",
   "metadata": {},
   "outputs": [],
   "source": [
    "def hardware_efficient_ansatz(weights, wires):\n",
    "    qml.templates.StronglyEntanglingLayers(weights=weights, wires=wires)"
   ]
  },
  {
   "cell_type": "markdown",
   "id": "e62d1c2e",
   "metadata": {},
   "source": [
    "## 2. Exact Diagonalization"
   ]
  },
  {
   "cell_type": "code",
   "execution_count": null,
   "id": "6f3aa2dd",
   "metadata": {},
   "outputs": [],
   "source": [
    "def run_Exact(H):\n",
    "    n_qubits = len(H.wires)\n",
    "    Hmat = qml.utils.sparse_hamiltonian(H).todense()\n",
    "    eig_vals, eig_vecs = sp.linalg.eigh(Hmat)\n",
    "    return eig_vals, eig_vecs"
   ]
  },
  {
   "cell_type": "code",
   "execution_count": null,
   "id": "cb9e3cd3",
   "metadata": {},
   "outputs": [],
   "source": [
    "def sweep_Exact(dist_list):\n",
    "    energies_list = []\n",
    "    energies_all = []\n",
    "    for j, dist in enumerate(tqdm(dist_list)):\n",
    "        H, n_qubits, s_wires, d_wires = define_problem(2, dist)\n",
    "        eig_vals, eig_vecs = run_Exact(H)\n",
    "#         energies_list.append(eig_vals)\n",
    "        energies_valid = []\n",
    "        for i in range(2**n_qubits):\n",
    "            if np.abs(\n",
    "                np.real(eig_vecs[:, i][..., np.newaxis].conjugate().T @ \n",
    "                        qml.matrix(qml.qchem.particle_number(4)) @ \n",
    "                        eig_vecs[:, i][..., np.newaxis])[0, 0] - 2\n",
    "            ) < 1e-10:\n",
    "                energies_valid.append(eig_vals[i])\n",
    "        energies_list.append(energies_valid)\n",
    "        energies_all.append(eig_vals)\n",
    "        \n",
    "    data = np.array(energies_list)\n",
    "    data.sort(axis = 1)\n",
    "    \n",
    "    data_all = np.array(energies_all)\n",
    "    data_all.sort(axis = 1)\n",
    "    return [x for x in data.T], [x for x in data_all.T]"
   ]
  },
  {
   "cell_type": "code",
   "execution_count": null,
   "id": "ef17a732",
   "metadata": {
    "scrolled": true
   },
   "outputs": [],
   "source": [
    "energies_exact, energies_exact_all = sweep_Exact(dist_list_exact)"
   ]
  },
  {
   "cell_type": "code",
   "execution_count": null,
   "id": "fd48d29c",
   "metadata": {},
   "outputs": [],
   "source": [
    "plot_energies(exact_data=energies_exact)"
   ]
  },
  {
   "cell_type": "code",
   "execution_count": null,
   "id": "383f8041",
   "metadata": {},
   "outputs": [],
   "source": [
    "plot_energies(exact_data=energies_exact_all)"
   ]
  },
  {
   "cell_type": "markdown",
   "id": "5b278d07",
   "metadata": {},
   "source": [
    "## 2. VQE"
   ]
  },
  {
   "cell_type": "code",
   "execution_count": null,
   "id": "20464193",
   "metadata": {},
   "outputs": [],
   "source": [
    "def run_VQE_UCCSD(H, s_wires, d_wires, opt, random_seed=1234, max_iter=1000, r_tol=1e-12):\n",
    "    n_qubits = len(H.wires)\n",
    "    np.random.seed(random_seed)\n",
    "    @qml.qnode(dev)\n",
    "    def energy_circuit(params):\n",
    "        UCCSD(params, s_wires, d_wires)\n",
    "        return qml.expval(H)\n",
    "    params = np.random.random(len(s_wires) + len(d_wires), requires_grad=True) * 2 * np.pi - np.pi\n",
    "    energies = [10000. ]\n",
    "    for i in range(max_iter):\n",
    "        params, energy = opt.step_and_cost(energy_circuit, params)\n",
    "        energies.append(energy)\n",
    "        if (abs((energies[-2] - energies[-1])/energies[-1]) < r_tol):\n",
    "            break\n",
    "    return params, energies[1:], energy_circuit"
   ]
  },
  {
   "cell_type": "code",
   "execution_count": null,
   "id": "12b24163",
   "metadata": {},
   "outputs": [],
   "source": [
    "def sweep_VQE_UCCSD(dist_list, opt, random_seed=1234, max_iter=1000, r_tol=1e-12):\n",
    "    opt_energy_list = []\n",
    "    param_list = []\n",
    "    energies_list = []\n",
    "    for j, dist in enumerate(tqdm(dist_list)):\n",
    "        H, n_qubits, s_wires, d_wires = define_problem(2, dist)\n",
    "        params, energies, energy_circuit = run_VQE_UCCSD(H, s_wires, d_wires, opt, r_tol=r_tol, random_seed=random_seed)\n",
    "        param_list.append(params)\n",
    "        energies_list.append(energies)\n",
    "        opt_energy_list.append(energy_circuit(params))\n",
    "        \n",
    "    return [np.array([float(x) for x in opt_energy_list])], param_list, energies_list"
   ]
  },
  {
   "cell_type": "code",
   "execution_count": null,
   "id": "3e6327ac",
   "metadata": {
    "scrolled": true
   },
   "outputs": [],
   "source": [
    "energies_VQE, param_list_VQE, steps_VQE = sweep_VQE_UCCSD(dist_list_quantum, opt, random_seed=random_seed)"
   ]
  },
  {
   "cell_type": "code",
   "execution_count": null,
   "id": "2c57d431",
   "metadata": {},
   "outputs": [],
   "source": [
    "plot_energies(exact_data=energies_exact, qc_data=energies_VQE, algorithm_name='VQE')"
   ]
  },
  {
   "cell_type": "markdown",
   "id": "fb41c688",
   "metadata": {},
   "source": [
    "## 3. VQD"
   ]
  },
  {
   "cell_type": "code",
   "execution_count": null,
   "id": "5af2bcf7",
   "metadata": {},
   "outputs": [],
   "source": [
    "def run_VQD_UCCSD(H, s_wires, d_wires, num_excited, opt, random_seed=1234, max_iter=1000, r_tol=1e-12):\n",
    "    n_qubits = len(H.wires)\n",
    "    np.random.seed(random_seed)\n",
    "    eigenstate_params = []\n",
    "    eigenstate_energies = []\n",
    "    \n",
    "    @qml.qnode(dev)\n",
    "    def energy_circuit(params):\n",
    "        UCCSD(params, s_wires, d_wires)\n",
    "        return qml.expval(H)\n",
    "    \n",
    "    @qml.qnode(dev)\n",
    "    def overlap_circuit(params_1, params_2):\n",
    "        UCCSD(params_1, s_wires, d_wires)    \n",
    "        UCCSD_dagger(params_2, s_wires, d_wires)    \n",
    "        return qml.probs(wires=range(4))\n",
    "    \n",
    "    beta = 10 * np.sum(np.abs(H.coeffs, requires_grad=True))\n",
    "    for k_excited in range(num_excited):\n",
    "        def cost_func(params):\n",
    "            energy = energy_circuit(params)\n",
    "            overlap = 0\n",
    "            for i_eigen, eigenstate_param in enumerate(eigenstate_params):\n",
    "                tmp_overlap = overlap_circuit(eigenstate_param, params)[0]\n",
    "                overlap += tmp_overlap\n",
    "            return energy + beta * overlap\n",
    "        \n",
    "        params = np.random.random(len(s_wires) + len(d_wires), requires_grad=True) * 2 * np.pi - np.pi\n",
    "        energies = [10000. ]\n",
    "        \n",
    "        for i in range(max_iter):\n",
    "            params, energy = opt.step_and_cost(cost_func, params)\n",
    "            energies.append(energy)\n",
    "            if (abs((energies[-2] - energies[-1])/energies[-1]) < r_tol):\n",
    "                break\n",
    "        eigenstate_params.append(params)\n",
    "        eigenstate_energies.append(energies[1:])\n",
    "    return eigenstate_params, eigenstate_energies, energy_circuit"
   ]
  },
  {
   "cell_type": "code",
   "execution_count": null,
   "id": "9051b64f",
   "metadata": {},
   "outputs": [],
   "source": [
    "def sweep_VQD_UCCSD(dist_list, num_excited, opt, random_seed=1234, max_iter=1000, r_tol=1e-12):\n",
    "    opt_energy_list = []\n",
    "    param_list = []\n",
    "    energies_list = []\n",
    "    for j, dist in enumerate(tqdm(dist_list)):\n",
    "        H, n_qubits, s_wires, d_wires = define_problem(2, dist)\n",
    "        params, energies, energy_circuit = run_VQD_UCCSD(\n",
    "            H, s_wires, d_wires, num_excited, opt, r_tol=r_tol, random_seed=random_seed\n",
    "        )\n",
    "        param_list.append(params)\n",
    "        energies_list.append(energies)\n",
    "        opt_energy_list.append([energy_circuit(param) for param in params])\n",
    "        tmp = np.array(opt_energy_list)\n",
    "        tmp.sort(axis = 1)\n",
    "    return [x for x in tmp.T], param_list, energies_list"
   ]
  },
  {
   "cell_type": "code",
   "execution_count": null,
   "id": "935d0f0c",
   "metadata": {
    "scrolled": true
   },
   "outputs": [],
   "source": [
    "energies_VQD, param_list_VQD, steps_VQD = sweep_VQD_UCCSD(dist_list_quantum, 4, opt, r_tol=1e-12, random_seed=random_seed)"
   ]
  },
  {
   "cell_type": "code",
   "execution_count": null,
   "id": "f03aa640",
   "metadata": {},
   "outputs": [],
   "source": [
    "np.array(energies_VQD)"
   ]
  },
  {
   "cell_type": "code",
   "execution_count": null,
   "id": "6614f1b1",
   "metadata": {
    "scrolled": false
   },
   "outputs": [],
   "source": [
    "plot_energies(exact_data=energies_exact, qc_data=energies_VQD, algorithm_name='VQD')"
   ]
  },
  {
   "cell_type": "markdown",
   "id": "81fde68d",
   "metadata": {},
   "source": [
    "## 4. SSVQE"
   ]
  },
  {
   "cell_type": "code",
   "execution_count": null,
   "id": "55f0e86a",
   "metadata": {},
   "outputs": [],
   "source": [
    "from itertools import permutations"
   ]
  },
  {
   "cell_type": "code",
   "execution_count": null,
   "id": "32cd126d",
   "metadata": {},
   "outputs": [],
   "source": [
    "def run_SSVQE_UCCSD(H, s_wires, d_wires, num_excited, opt, random_seed=1234, max_iter=1000, r_tol=1e-12):\n",
    "    n_qubits = len(H.wires)\n",
    "    np.random.seed(random_seed)\n",
    "    \n",
    "    eigenstate_params = []\n",
    "    eigenstate_energies = []\n",
    "    \n",
    "    weights = np.arange(1, num_excited+1)[::-1]\n",
    "    # Below code for only N = 2 case\n",
    "    # basises = [''.join([str(y) for y in x]) for x in list(set(permutations([1]*2 + [0]*2, 4)))]\n",
    "    def comp_basis(index: int):\n",
    "        for i, x in enumerate(bin(index)[2:].zfill(4)):\n",
    "            if x == '1':\n",
    "                qml.PauliX(i)\n",
    "    \n",
    "    @qml.qnode(dev)\n",
    "    def energy_circuit(params, i):\n",
    "        comp_basis(i)\n",
    "        UCCSD_without_initialization(params, s_wires, d_wires)     \n",
    "        return qml.expval(H)\n",
    "\n",
    "    def cost_func(params):\n",
    "        cost = 0\n",
    "        for i in range(num_excited):\n",
    "            cost += weights[i] * energy_circuit(params, i)\n",
    "        return cost\n",
    "\n",
    "    params = np.random.random(len(s_wires) + len(d_wires), requires_grad=True) * 2 * np.pi - np.pi\n",
    "    costs = [10000. ]\n",
    "\n",
    "    for i in range(max_iter):\n",
    "        params, cost = opt.step_and_cost(cost_func, params)\n",
    "        costs.append(cost)\n",
    "        step_energies = []\n",
    "        for j in range(num_excited):\n",
    "            step_energies.append(energy_circuit(params, j))\n",
    "        eigenstate_energies.append(step_energies)\n",
    "        eigenstate_params.append(params)\n",
    "        if (abs((costs[-2] - costs[-1])/costs[-1]) < r_tol):\n",
    "            break\n",
    "    return eigenstate_params, eigenstate_energies, energy_circuit"
   ]
  },
  {
   "cell_type": "code",
   "execution_count": null,
   "id": "558cb01b",
   "metadata": {},
   "outputs": [],
   "source": [
    "def sweep_SSVQE_UCCSD(dist_list, num_excited, opt, random_seed=1234, max_iter=10000, r_tol=1e-6):\n",
    "    param_list = []\n",
    "    energies_list = []\n",
    "    for j, dist in enumerate(tqdm(dist_list)):\n",
    "        H, n_qubits, s_wires, d_wires = define_problem(2, dist)\n",
    "        params, energies, energy_circuit = run_SSVQE_UCCSD(\n",
    "            H, s_wires, d_wires, num_excited, opt, r_tol=r_tol, random_seed=random_seed\n",
    "        )\n",
    "        param_list.append(params)\n",
    "        energies_list.append(energies)\n",
    "        tmp = np.array([x[-1] for x in energies_list]).T\n",
    "        tmp.sort(axis = 0)\n",
    "    return [x for x in tmp], param_list, energies_list"
   ]
  },
  {
   "cell_type": "code",
   "execution_count": null,
   "id": "2df00417",
   "metadata": {
    "scrolled": true
   },
   "outputs": [],
   "source": [
    "energies_SSVQE, param_list_SSVQE, steps_SSVQE = sweep_SSVQE_UCCSD(dist_list_quantum, 16, opt, r_tol=1e-12, random_seed=random_seed)"
   ]
  },
  {
   "cell_type": "code",
   "execution_count": null,
   "id": "d21dec8b",
   "metadata": {},
   "outputs": [],
   "source": [
    "plot_energies(exact_data=energies_exact_all, qc_data=energies_SSVQE, algorithm_name='SSVQE')"
   ]
  },
  {
   "cell_type": "code",
   "execution_count": null,
   "id": "ad80bf0d",
   "metadata": {},
   "outputs": [],
   "source": [
    "plot_energies(exact_data=energies_exact, qc_data=energies_SSVQE, algorithm_name='SSVQE')"
   ]
  },
  {
   "cell_type": "code",
   "execution_count": null,
   "id": "8b423ad1",
   "metadata": {},
   "outputs": [],
   "source": []
  },
  {
   "cell_type": "code",
   "execution_count": null,
   "id": "d0845e2a",
   "metadata": {},
   "outputs": [],
   "source": []
  }
 ],
 "metadata": {
  "kernelspec": {
   "display_name": "qiskit",
   "language": "python",
   "name": "qiskit"
  },
  "language_info": {
   "codemirror_mode": {
    "name": "ipython",
    "version": 3
   },
   "file_extension": ".py",
   "mimetype": "text/x-python",
   "name": "python",
   "nbconvert_exporter": "python",
   "pygments_lexer": "ipython3",
   "version": "3.10.4"
  }
 },
 "nbformat": 4,
 "nbformat_minor": 5
}
